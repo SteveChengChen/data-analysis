{
 "cells": [
  {
   "cell_type": "markdown",
   "metadata": {
    "id": "ppAhXMqdgZN9"
   },
   "source": [
    "# 4206/5206 Final Exam - Fall 2023\n",
    "\n",
    "## How the news talks about Bitcoin\n",
    "\n",
    "We will examine how The Guardian, a UK newsroom published articles about Bitcoin from 2020/05/01 to 2021/05/31 and how it will relate to Bitcoin prices.\n",
    "\n",
    "We chose this period because May 2020 was just before the massive rise in Bitcoin prices and May 2021 was when the first massive drop in prices occurred.\n",
    "\n",
    "Bitcoin is a virtual currency with a limited supply. You can treat it like a stock where its price depends on the demand."
   ]
  },
  {
   "cell_type": "markdown",
   "metadata": {
    "id": "uM3YtndBgZOA"
   },
   "source": [
    "#### Exam rules:\n",
    "\n",
    "- This is an open-book, open-note, open-internet exam.\n",
    "- You cannot consult another intelligent being for this exam nor should you distribute this exam on any platform. You must complete your own exam.\n",
    "- You need to submit a `.ipynb` file on **CourseWorks**.\n",
    "- All phones should be turned off during the exam.\n",
    "- You should close all browser tabs related to any form of messaging/emailing to avoid suspicions around cheating.\n",
    "- The following can incur a penalty on your exam:\n",
    "  - Any attempts to print out all of the data (unless explicitly asked for) will be penalized.\n",
    "  - Hardcoding solutions unless you were instructed to do so.\n",
    "  - Asking the following type of questions:\n",
    "    - Question about the differences between your solution and the backup dataset.\n",
    "    - Question about partial credit or specific grade distributions within the problem\n",
    "    - Questions about installing Jupyter Notebook or packages used in class\n",
    "    - The backup datasets are not meant to validate your answers and steps have been taken to prevent you from doing so. Using the backup datasets will only result in a small penalty for the question that was meant to generate the dataset. You can later remove the use of the backup dataset if you solved the problem, then there will be no penalty.\n",
    "    - If you use an external source to solve the exam, please cite the URL with a comment so we know you grabbed it from online and not from each other.\n",
    "    - Please read the entire exam before asking questions"
   ]
  },
  {
   "cell_type": "markdown",
   "metadata": {
    "id": "7vWXTljXgZOA"
   },
   "source": [
    "## Honor Code\n",
    "\n",
    "We, the students of Columbia University, hereby pledge to value the integrity of our ideas and the ideas of others by honestly presenting our work, respecting authorship, and striving not simply for answers but for understanding in the pursuit of our common scholastic goals. In this way, we seek to build an academic community governed by our collective efforts, diligence, and Code of Honor.\n",
    "\n",
    "I affirm that I will not plagiarize, use unauthorized materials, or give or receive illegitimate help on assignments, papers, or examinations. I will also uphold equity and honesty in the evaluation of my work and the work of others. I do so to sustain a community built around this Code of Honor.\n",
    "\n",
    "Have you read and agree to the honor code?\n",
    "- To answer this, please create a variable called `i_will_follow_the_honor_code` and assign the appropriate `True` or `False` value to it.\n",
    "- You must also create a string variable called `UNI` that contains your Columbia UNI.\n",
    "\n",
    "WARNING: You will receive 0 points for the exam if you do not get this problem correct.\n"
   ]
  },
  {
   "cell_type": "code",
   "execution_count": null,
   "metadata": {
    "id": "zzfUd-tygZOB"
   },
   "outputs": [],
   "source": [
    "i_will_follow_the_honor_code = True\n",
    "UNI = \"aa3744\""
   ]
  },
  {
   "cell_type": "markdown",
   "metadata": {
    "id": "X5ZOp6qfgZOC"
   },
   "source": [
    "## Q0 - Querying The Guardian API (20 pts)\n",
    "\n",
    "Please leverage the [search API](https://open-platform.theguardian.com/documentation/search) from The Guardian to get data that satisfy the following requirements.\n",
    "\n",
    "- The content should mention the word `bitcoin`\n",
    "- Data between 2020/05/01 to 2021/05/31\n",
    "- Please use the `requests` library in your answer\n",
    "- We want all the associated metadata tags (the default does not return any). Hint: search for \"metadata tags\" in the documentation)\n",
    "- Your final answer should be a list, named `guardian`, containing records from the `results` field, i.e. each element in the list should be a result.\n",
    "\n",
    "Important, the free account has several limits:\n",
    "- It limits 1 call per second (500 calls per day), please use [`time.sleep()`](https://docs.python.org/3/library/time.html#time.sleep)\n",
    "- It can only return a finite number of records per call, please see instructions on [paging](https://open-platform.theguardian.com/documentation/). Not specifying the page will default to `page=1`.\n",
    "- It limits to 10 results per page, please adjust your `page-size` parameter to the maximum value\n",
    "- The total number of pages associated with any query is called `pages`.\n",
    "\n",
    "For grading, please use a `print()` statement for each of the following:\n",
    "- Please report the number of records in `guardian` (Your answer should have between 200 and 250 data)\n",
    "- Please report the maximum number of tags across all results"
   ]
  },
  {
   "cell_type": "code",
   "execution_count": null,
   "metadata": {
    "id": "qggUHmQigZOC"
   },
   "outputs": [],
   "source": [
    "import requests\n",
    "import time\n",
    "\n",
    "def fetch_guardian_data(query, from_date, to_date, api_key):\n",
    "    base_url = \"https://content.guardianapis.com/search\"\n",
    "    page_size = 50  # maximum allowed\n",
    "    guardian = []\n",
    "\n",
    "    params = {\n",
    "        'q': 'bitcoin',\n",
    "        'from-date': from_date,\n",
    "        'to-date': to_date,\n",
    "        'show-tags': 'all',\n",
    "        'page-size': page_size,\n",
    "        'api-key': api_key\n",
    "    }\n",
    "\n",
    "    # Initial request to get the total number of pages\n",
    "    response = requests.get(base_url, params=params)\n",
    "    if response.status_code != 200:\n",
    "        return None  # Error handling\n",
    "\n",
    "    data = response.json()\n",
    "    total_pages = data['response']['pages']\n",
    "\n",
    "    # Fetch data page by page\n",
    "    for page in range(1, total_pages + 1):\n",
    "        params['page'] = page\n",
    "        response = requests.get(base_url, params=params)\n",
    "        if response.status_code == 200:\n",
    "            page_data = response.json()['response']['results']\n",
    "            guardian.extend(page_data)\n",
    "        time.sleep(1)  # Respect the rate limit\n",
    "\n",
    "    return guardian\n",
    "\n",
    "api_key = \"fb7e7abe-22c8-49a4-a73a-ec10b85b5c2f\"\n",
    "guardian = fetch_guardian_data(\"bitcoin\", \"2020-05-01\", \"2021-05-31\", api_key)\n",
    "# guardian  # This will be the list containing the articles data"
   ]
  },
  {
   "cell_type": "code",
   "execution_count": null,
   "metadata": {
    "colab": {
     "base_uri": "https://localhost:8080/"
    },
    "executionInfo": {
     "elapsed": 113,
     "status": "ok",
     "timestamp": 1733413963889,
     "user": {
      "displayName": "Aria Han",
      "userId": "05546580157643074001"
     },
     "user_tz": 300
    },
    "id": "nh1D66XngZOD",
    "outputId": "146a0061-9868-42a7-edf1-798e79e6e196"
   },
   "outputs": [
    {
     "name": "stdout",
     "output_type": "stream",
     "text": [
      "239\n"
     ]
    }
   ],
   "source": [
    "print(len(guardian))\n"
   ]
  },
  {
   "cell_type": "code",
   "execution_count": null,
   "metadata": {
    "id": "GAZWZVtggZOE",
    "outputId": "209cbf38-c632-408d-da1b-03d62da5ff38"
   },
   "outputs": [
    {
     "name": "stdout",
     "output_type": "stream",
     "text": [
      "The maximum number of tags across all results is: 37\n"
     ]
    }
   ],
   "source": [
    "def find_max_tags(guardian_data):\n",
    "    max_tags = 0\n",
    "    for article in guardian_data:\n",
    "        tag_count = len(article.get('tags', []))\n",
    "        if tag_count > max_tags:\n",
    "            max_tags = tag_count\n",
    "    return max_tags\n",
    "\n",
    "if guardian_articles:\n",
    "    max_tags = find_max_tags(guardian)\n",
    "    print(f\"The maximum number of tags across all results is: {max_tags}\")\n",
    "else:\n",
    "    print(\"No data fetched or there was an error.\")"
   ]
  },
  {
   "cell_type": "markdown",
   "metadata": {
    "id": "NY_vhnElgZOE"
   },
   "source": [
    "## Q1 - Wrangling data (15 pts)\n",
    "\n",
    "If you couldn't finish Q0, please use the file `Q0_backup_guardian.json`\n",
    "\n",
    "To facilitate analysis later, please wrangle the data in `guardian` into a pandas data frame, named `guardian_df`, where each row is a record from `guardian` with the following columns:\n",
    "- `date`: Published date, e.g. \"2021-05-01\", this should be of the type `datetime`.\n",
    "- `sectionName`: section name\n",
    "- `pillarName`: pillar name\n",
    "- `webTitle`: web title\n",
    "- `{TAG_KEYWORD_WEBTITLE}`: these should be 0-1 columns indicating whether the corresponding tag is associated with this record.\n",
    "  - You should replace `{TAG_KEYWORD_WEBTITLE}` with the wording of the actual `webTitle` of the tag.\n",
    "  - Please only keep the tags where their `type` is `\"keyword\"`\n",
    "\n",
    "An example output should look like (these numbers are made-up):\n",
    "```\n",
    "   date  ... Bitcoin Cryptocurrencies ... Anthony Albanese\n",
    "0  2021-05-22  ...     1.0              1.0 ...              0.0\n",
    "1  2021-04-11  ...     1.0.             0.0 ...              0.0\n",
    "```\n",
    "\n",
    "For grading, please:\n",
    "- Report the number of rows and columns in `guardian_df` using a `print()` statement.\n",
    "- Report the frequency of the different possible values in the `pillarName` column from `guardian_df`.\n",
    "- Report the 5 most popular keyword tag(s) used across all records."
   ]
  },
  {
   "cell_type": "code",
   "execution_count": null,
   "metadata": {
    "id": "vqgElhqVgZOE"
   },
   "outputs": [],
   "source": [
    "import pandas as pd\n",
    "\n",
    "  # This should be the list containing the articles data\n",
    "\n",
    "# Initialize an empty list to store the records\n",
    "records = []\n",
    "\n",
    "# Process each article to extract information and keyword tags\n",
    "for article in guardian:\n",
    "    # Extract the basic information\n",
    "    record = {\n",
    "        'date': pd.to_datetime(article['webPublicationDate']).date(),\n",
    "        'sectionName': article['sectionName'],\n",
    "        'pillarName': article['pillarName'],\n",
    "        'webTitle': article['webTitle'],\n",
    "    }\n",
    "\n",
    "    # Process keyword tags\n",
    "    for tag in article.get('tags', []):\n",
    "        if tag['type'] == 'keyword':\n",
    "            # Create a column for each keyword tag's webTitle\n",
    "            tag_title = tag['webTitle'].replace(\" \", \"_\")  # Replace spaces with underscores\n",
    "            record[tag_title] = 1\n",
    "\n",
    "    # Add the record to the list\n",
    "    records.append(record)\n",
    "\n",
    "# Convert the list of records into a DataFrame\n",
    "guardian_df = pd.DataFrame(records)\n",
    "\n",
    "# Fill NaN values with 0 for keyword columns and ensure correct data types\n",
    "keyword_columns = [col for col in guardian_df.columns if col not in ['date', 'sectionName', 'pillarName', 'webTitle']]\n",
    "guardian_df[keyword_columns] = guardian_df[keyword_columns].fillna(0).astype(int)"
   ]
  },
  {
   "cell_type": "code",
   "execution_count": null,
   "metadata": {
    "id": "VSj8PbGRgZOF",
    "outputId": "ffa8e768-4228-402d-dd5a-ad0053a28b3b"
   },
   "outputs": [
    {
     "name": "stdout",
     "output_type": "stream",
     "text": [
      "(236, 370)\n",
      "Frequency of different values in the 'pillarName' column:\n",
      "News         190\n",
      "Arts          20\n",
      "Opinion       12\n",
      "Lifestyle     10\n",
      "Sport          4\n",
      "Name: pillarName, dtype: int64\n"
     ]
    }
   ],
   "source": [
    "print(guardian_df.shape)\n",
    "pillarName_freq = guardian_df['pillarName'].value_counts()\n",
    "print(\"Frequency of different values in the 'pillarName' column:\")\n",
    "print(pillarName_freq)"
   ]
  },
  {
   "cell_type": "code",
   "execution_count": null,
   "metadata": {
    "id": "HCkbALo9gZOF",
    "outputId": "cbb1db5e-5cee-4fe8-dbb5-8cf6de4454db"
   },
   "outputs": [
    {
     "name": "stdout",
     "output_type": "stream",
     "text": [
      "The 5 most popular keyword tags used across all records:\n",
      "Business            125\n",
      "Cryptocurrencies     74\n",
      "Technology           73\n",
      "Stock_markets        67\n",
      "Bitcoin              62\n",
      "dtype: int64\n"
     ]
    }
   ],
   "source": [
    "# Report the 5 most popular keyword tags\n",
    "# First, filter out non-keyword columns\n",
    "keyword_columns = [col for col in guardian_df.columns if col not in ['date', 'sectionName', 'pillarName', 'webTitle']]\n",
    "\n",
    "# Sum the values of the keyword columns\n",
    "keyword_counts = guardian_df[keyword_columns].sum()\n",
    "\n",
    "# Find the 5 most popular keyword tags\n",
    "top_5_keywords = keyword_counts.nlargest(5)\n",
    "print(\"The 5 most popular keyword tags used across all records:\")\n",
    "print(top_5_keywords)\n"
   ]
  },
  {
   "cell_type": "markdown",
   "metadata": {
    "id": "GX5KKr0QgZOF"
   },
   "source": [
    "## Q2 - Getting the weekly bitcoin prices (20 pts)\n",
    "\n",
    "In `btc_weekly_3months.csv` we have the weekly bitcoin prices over 3 months (we need it to match our news data) and `btc_daily_5years.csv` has the daily bitcoin prices over 5 years. Both datasets end in 2023.\n",
    "\n",
    "Please only focus on the columns: `'Date'`, `'Adj Close'`, and `'Volume'` for the entire exam.\n",
    "\n",
    "- There is a single date value in the weekly records instead of a date range, what does this date correspond to in the week? Please also explain the relationship between the weekly vs daily values of \"Adj Close\" and \"Volume\". Please verify your claims using `assert` statements by checking your logic applied to daily is the same as in the weekly data. This assertion only needs to be demonstrated on one week.\n",
    "  - Hint: focus on a single week and look at the data!\n",
    "  - You can hardcode this part of the question\n",
    "  - In finance, \"close\" means the price at the end of the respective period. The \"Adj\" often refers to adjusted to seasonality.\n",
    "  - In finance, \"volume\" means the number of units in the transaction.\n",
    "- Please produce the weekly data **over the 5 years** using the daily dataset for `Adj Close` and `Volume` according to the relationship you see. Please call this variable `btc_weekly`.\n",
    "  - `btc_weekly` should have 3 columns, the `Date`, `Adj Close`, and `Volume`\n",
    "  - HINT: To get the date of the \"following Sunday\" for any date, you can do\n",
    "  ```\n",
    "  from datetime import date, timedelta\n",
    "  dt = date(2023, 12, 8)\n",
    "  days_until_sunday = 6 - dt.weekday()\n",
    "  sunday_date = dt + timedelta(days=days_until_sunday)\n",
    "  print(sunday_date)\n",
    "  ```\n",
    "- Please print out the first 3 and last 3 weeks of data in `btc_weekly`, after sorting by `Date`.\n",
    "- Please print out the number of rows and columns in the dataset."
   ]
  },
  {
   "cell_type": "code",
   "execution_count": null,
   "metadata": {
    "id": "rWC4_OVhgZOF"
   },
   "outputs": [],
   "source": [
    "import pandas as pd\n",
    "btc_week = pd.read_csv(\"btc_weekly_3months.csv\")\n",
    "btc_day = pd.read_csv(\"btc_daily_5years.csv\")\n",
    "\n",
    "drop_col = [\"Open\", \"High\", \"Low\", \"Close\"]\n",
    "btc_week = btc_week.drop(columns = drop_col)\n",
    "btc_day = btc_day.drop(columns = drop_col)\n"
   ]
  },
  {
   "cell_type": "code",
   "execution_count": null,
   "metadata": {
    "id": "H-gL0xP6gZOG",
    "outputId": "6d2f0260-9640-4b78-cb96-26e2a357048a"
   },
   "outputs": [
    {
     "data": {
      "text/html": [
       "<div>\n",
       "<style scoped>\n",
       "    .dataframe tbody tr th:only-of-type {\n",
       "        vertical-align: middle;\n",
       "    }\n",
       "\n",
       "    .dataframe tbody tr th {\n",
       "        vertical-align: top;\n",
       "    }\n",
       "\n",
       "    .dataframe thead th {\n",
       "        text-align: right;\n",
       "    }\n",
       "</style>\n",
       "<table border=\"1\" class=\"dataframe\">\n",
       "  <thead>\n",
       "    <tr style=\"text-align: right;\">\n",
       "      <th></th>\n",
       "      <th>Date</th>\n",
       "      <th>Adj Close</th>\n",
       "      <th>Volume</th>\n",
       "    </tr>\n",
       "  </thead>\n",
       "  <tbody>\n",
       "    <tr>\n",
       "      <th>11</th>\n",
       "      <td>2023-11-20</td>\n",
       "      <td>37479.121094</td>\n",
       "      <td>130439893957</td>\n",
       "    </tr>\n",
       "  </tbody>\n",
       "</table>\n",
       "</div>"
      ],
      "text/plain": [
       "          Date     Adj Close        Volume\n",
       "11  2023-11-20  37479.121094  130439893957"
      ]
     },
     "execution_count": 196,
     "metadata": {},
     "output_type": "execute_result"
    }
   ],
   "source": [
    "ex_week = btc_week.iloc[-1: :]\n",
    "ex_week"
   ]
  },
  {
   "cell_type": "code",
   "execution_count": null,
   "metadata": {
    "id": "9y1pkm-kgZOG"
   },
   "outputs": [],
   "source": [
    "# we focus on 2023/11/20 - 2023/11/26\n",
    "_day = btc_day.iloc[-7: :]\n",
    "assert  _day['Adj Close'].iloc[-1] == ex_week[\"Adj Close\"].iloc[-1]\n",
    "# we can see the ad.closing price of this week represented by 2023-11-20 is 37479.121094, which is the same\n",
    "# as the day 2023-11-26"
   ]
  },
  {
   "cell_type": "code",
   "execution_count": null,
   "metadata": {
    "id": "seX_xdMEgZOG",
    "outputId": "7b447fd5-cfb5-47c7-a90c-3f1b33462cc1"
   },
   "outputs": [
    {
     "name": "stdout",
     "output_type": "stream",
     "text": [
      "        Date    Adj Close       Volume\n",
      "0 2018-12-03  3614.234375  38386467708\n",
      "1 2018-12-10  3252.839111  29869247431\n",
      "2 2018-12-17  3998.980225  46021506218\n",
      "          Date     Adj Close        Volume\n",
      "257 2023-11-06  37054.519531  134767494805\n",
      "258 2023-11-13  37386.546875  143535361089\n",
      "259 2023-11-20  37479.121094  130439893957\n",
      "(260, 3)\n"
     ]
    }
   ],
   "source": [
    "from datetime import timedelta\n",
    "\n",
    "# Convert 'Date' in the daily data to datetime format\n",
    "btc_day['Date'] = pd.to_datetime(btc_day['Date'])\n",
    "\n",
    "# Function to get the following Sunday for any given date\n",
    "def get_next_sunday(d):\n",
    "    days_until_sunday = 0 - d.weekday()\n",
    "    return d + timedelta(days=days_until_sunday)\n",
    "\n",
    "# Create a column to identify the week ending date (Sunday) for each date\n",
    "btc_day['Week Ending'] = btc_day['Date'].apply(lambda d: get_next_sunday(d))\n",
    "\n",
    "# Group by 'Week Ending' and aggregate\n",
    "btc_weekly = btc_day.groupby('Week Ending').agg({'Adj Close': 'last', 'Volume': 'sum'}).reset_index()\n",
    "\n",
    "# Rename columns\n",
    "btc_weekly.rename(columns={'Week Ending': 'Date'}, inplace=True)\n",
    "\n",
    "# Sort by Date\n",
    "btc_weekly = btc_weekly.sort_values(by='Date')\n",
    "\n",
    "# Display first 3 and last 3 weeks and the shape of the dataframe\n",
    "first_three_weeks_corrected = btc_weekly.head(3)\n",
    "last_three_weeks_corrected = btc_weekly.tail(3)\n",
    "shape_of_dataframe = btc_weekly.shape\n",
    "\n",
    "print(first_three_weeks_corrected)\n",
    "print(last_three_weeks_corrected)\n",
    "print(shape_of_dataframe)\n"
   ]
  },
  {
   "cell_type": "markdown",
   "metadata": {
    "id": "NLBukTJtgZOG"
   },
   "source": [
    "## Q3 - Exploring the data (10 pts)\n",
    "\n",
    "If you couldn't finish Q2, you should load up `Q2_backup.csv`.\n",
    "\n",
    "- Using `btc_weekly`, please plot the two time-series curves `Adj Close` and `Volume` over the 5 years on a comparable axis in the same plot. Your x-axis should be date (you may need to transform the data to achieve this).\n",
    "- Please add a meaningful legend box"
   ]
  },
  {
   "cell_type": "code",
   "execution_count": null,
   "metadata": {
    "id": "FetgZrxwgZOG",
    "outputId": "499cbe14-de21-45f0-8e32-1c092f32fd61"
   },
   "outputs": [
    {
     "data": {
      "image/png": "[encoded data removed]",
      "text/plain": [
       "<Figure size 1080x504 with 2 Axes>"
      ]
     },
     "metadata": {
      "needs_background": "light"
     },
     "output_type": "display_data"
    }
   ],
   "source": [
    "import matplotlib.pyplot as plt\n",
    "import pandas as pd\n",
    "\n",
    "# Creating the plot\n",
    "fig, ax1 = plt.subplots(figsize=(15, 7))\n",
    "\n",
    "# Plotting 'Adj Close' on the left y-axis\n",
    "ax1.set_xlabel('Date')\n",
    "ax1.set_ylabel('Adj Close', color='tab:blue')\n",
    "ax1.plot(btc_weekly['Date'], btc_weekly['Adj Close'], color='tab:blue', label='Adj Close')\n",
    "ax1.tick_params(axis='y', labelcolor='tab:blue')\n",
    "\n",
    "# Creating a twin axis for 'Volume'\n",
    "ax2 = ax1.twinx()\n",
    "ax2.set_ylabel('Volume', color='tab:red')\n",
    "ax2.plot(btc_weekly['Date'], btc_weekly['Volume'], color='tab:red', label='Volume')\n",
    "ax2.tick_params(axis='y', labelcolor='tab:red')\n",
    "\n",
    "# Adding a title and a legend\n",
    "plt.title('Weekly Bitcoin Adjusted Close Price and Volume Over 5 Years')\n",
    "fig.tight_layout()\n",
    "\n",
    "# Creating a combined legend for both lines\n",
    "lines, labels = ax1.get_legend_handles_labels()\n",
    "lines2, labels2 = ax2.get_legend_handles_labels()\n",
    "ax2.legend(lines + lines2, labels + labels2, loc='upper left')\n",
    "\n",
    "# Show the plot\n",
    "plt.show()\n"
   ]
  },
  {
   "cell_type": "markdown",
   "metadata": {
    "id": "2S5g-7tCgZOH"
   },
   "source": [
    "## Q4.0 - feature creation (10 pts)\n",
    "\n",
    "If you couldn't finish Q1, please use `Q1_backup.csv`.\n",
    "\n",
    "In the **next problem**, we want to model the relationship between different keywords and the rise/fall of bitcoin prices. This is preparing our datasets for the next question.\n",
    "\n",
    "- First, please add 2 additional columns to `guardian_df` by using **a single regular expression** for each:\n",
    "  - `positive_title`: this is 1 if one of the `good_words` (see below) are in the `webTitle`. 0 otherwise.\n",
    "  - `negative_title`: this is 1 if one of the `bad_words` (see below) are in the `webTitle`. 0 otherwise.\n",
    "- Please print out the total number of positive and negative titles across all records.\n",
    "- Please report the number of titles that are both positive and negative.\n",
    "```\n",
    "bad_words = [\"plung\", \"crash\", \"drop\", \"tumble\", \"retreat\", \"low\", \"lose\", \"slide\", \"fizzle\", \"sell\", \"fear\"]\n",
    "good_words = [\"buy\", \"rebound\", \"climb\", \"rise\", \"boom\", \"buy\", \"high\", \"surge\", \"jump\", \"soar\", \"grow\"]\n",
    "```"
   ]
  },
  {
   "cell_type": "code",
   "execution_count": null,
   "metadata": {
    "id": "aXGAnw1hgZOH",
    "outputId": "4b704402-7869-4940-bd93-49a56e59f9b1"
   },
   "outputs": [
    {
     "name": "stdout",
     "output_type": "stream",
     "text": [
      "the total number of positive titles is 64\n",
      "the total number of negative titles is 36\n",
      "the number of titles that are both positive and negative is 12\n"
     ]
    }
   ],
   "source": [
    "import pandas as pd\n",
    "\n",
    "\n",
    "# Update the lists of good and bad words\n",
    "bad_words = [\"plung\", \"crash\", \"drop\", \"tumble\", \"retreat\", \"low\", \"lose\", \"slide\", \"fizzle\", \"sell\", \"fear\"]\n",
    "good_words = [\"buy\", \"rebound\", \"climb\", \"rise\", \"boom\", \"high\", \"surge\", \"jump\", \"soar\", \"grow\"]\n",
    "\n",
    "# Add the 'positive_title' column\n",
    "good_pattern = '|'.join(good_words)  # Create a regex pattern for good words\n",
    "guardian_df['positive_title'] = guardian_df['webTitle'].str.contains(good_pattern, case=False, regex=True).astype(int)\n",
    "\n",
    "# Add the 'negative_title' column\n",
    "bad_pattern = '|'.join(bad_words)  # Create a regex pattern for bad words\n",
    "guardian_df['negative_title'] = guardian_df['webTitle'].str.contains(bad_pattern, case=False, regex=True).astype(int)\n",
    "\n",
    "# Print out the total number of positive and negative titles\n",
    "total_positive_titles = guardian_df['positive_title'].sum()\n",
    "total_negative_titles = guardian_df['negative_title'].sum()\n",
    "print(f\"the total number of positive titles is {total_positive_titles}\")\n",
    "print(f\"the total number of negative titles is {total_negative_titles}\")\n",
    "# Report the number of titles that are both positive and negative\n",
    "both_positive_and_negative = (guardian_df['positive_title'] & guardian_df['negative_title']).sum()\n",
    "print(f\"the number of titles that are both positive and negative is {both_positive_and_negative}\")\n",
    "\n"
   ]
  },
  {
   "cell_type": "markdown",
   "metadata": {
    "id": "L4DX03oCgZON"
   },
   "source": [
    "## Q4.1 - Feature creation part 2 (10 pts)\n",
    "\n",
    "Continuing from Q4.0, if you couldn't finish Q4.0, please use `Q1_backup.csv`.\n",
    "\n",
    "- Please calculate the frequency for each of the keyword columns and the 2 new columns for each week (the week definition should be the same as `btc_weekly`). These frequencies should be stored in a data frame named `X`.\n",
    "  - The columns of `X` should be all the keywords from the tags plus `positive_title` and `negative_title`.\n",
    "  - For incomplete weeks, due to the exam nature, please assume those days have 0 occurrences for all features. If a week is completely missing, you do not need to create a record for it.\n",
    "  -  HINT: To get the date of the \"following Sunday\" for any date, you can do\n",
    "  ```\n",
    "  from datetime import date, timedelta\n",
    "  dt = date(2023, 12, 8)\n",
    "  days_until_sunday = 6 - dt.weekday()\n",
    "  sunday_date = dt + timedelta(days=days_until_sunday)\n",
    "  print(sunday_date)\n",
    "  ```\n",
    "- Please sort the columns in `X` according to their total frequency across all weeks. So the first column should be the most popular (i.e. most articles include this keyword) feature and the last column should be the least popular. Call this variable `X_ord`.\n",
    "  - Ties can be in any order. Do not lose the column names.\n",
    "- Please print out the data for the last 2 weeks for `X_ord` along with the features (column names) they correspond to.\n"
   ]
  },
  {
   "cell_type": "code",
   "execution_count": null,
   "metadata": {
    "id": "r20wsE-ygZON"
   },
   "outputs": [],
   "source": [
    "guardian_df['date'] = pd.to_datetime(guardian_df['date'])\n",
    "guardian_df['week_ending'] = guardian_df['date'].apply(get_next_sunday)\n",
    "\n",
    "# Group by 'week_ending' and calculate the frequency for each keyword and the new columns\n",
    "X = guardian_df.groupby('week_ending').sum()\n",
    "\n",
    "# Sort the columns in X by their total frequency across all weeks\n",
    "X_ord = X.reindex(X.sum().sort_values(ascending=False).index, axis=1)\n",
    "\n",
    "# Print out the data for the last two weeks for X_ord and the feature names\n",
    "last_two_weeks_X_ord = X_ord.tail(2)\n"
   ]
  },
  {
   "cell_type": "code",
   "execution_count": null,
   "metadata": {
    "id": "tJyJ2RNQgZON",
    "outputId": "2c131e23-9f01-4e8b-eb23-4c16ba606fe8"
   },
   "outputs": [
    {
     "name": "stdout",
     "output_type": "stream",
     "text": [
      "             Business  Cryptocurrencies  Technology  Stock_markets  \\\n",
      "week_ending                                                          \n",
      "2021-05-17         10                11           5              4   \n",
      "2021-05-24          6                 6           4              2   \n",
      "\n",
      "             positive_title  Bitcoin  Economics  World_news  UK_news  FTSE  \\\n",
      "week_ending                                                                  \n",
      "2021-05-17                2        9          7           3        4     4   \n",
      "2021-05-24                4        3          1           2        4     2   \n",
      "\n",
      "             ...  Steel_industry  Greensill  Rolls-Royce  BAE_Systems  \\\n",
      "week_ending  ...                                                        \n",
      "2021-05-17   ...               0          0            0            0   \n",
      "2021-05-24   ...               1          1            1            1   \n",
      "\n",
      "             Serious_Fraud_Office  Cineworld  Conservation  Climate_science  \\\n",
      "week_ending                                                                   \n",
      "2021-05-17                      0          0             0                0   \n",
      "2021-05-24                      1          1             0                0   \n",
      "\n",
      "             Biodiversity  Insurance_industry  \n",
      "week_ending                                    \n",
      "2021-05-17              0                   0  \n",
      "2021-05-24              0                   0  \n",
      "\n",
      "[2 rows x 368 columns]\n",
      "Column Names:\n",
      "Business, Cryptocurrencies, Technology, Stock_markets, positive_title, Bitcoin, Economics, World_news, UK_news, FTSE, US_news, negative_title, E-commerce, Coronavirus, Currencies, Internet, Culture, Eurozone, Elon_Musk, Retail_industry, Inflation, Commodities, Sterling, Social_media, Media, Australia_news, Money, Bank_of_England, Digital_media, China, X, Life_and_style, Non-fungible_tokens_(NFTs), Financial_sector, Environment, Tesla, Art_and_design, Television, Sport, Art, Cybercrime, Oil, Banking, Television_&_radio, Politics, Comedy, US_economy, Bonds, Investments, Hacking, Digital_art, Music, Health, Brexit, TV_comedy, Joe_Biden, Financial_Conduct_Authority, Energy, Society, Investing, Europe, Science, Regulators, Office_for_National_Statistics, Vaccines_and_immunisation, Dow_Jones, Dollar, GameStop, Australian_politics, Nasdaq, Automotive_industry, Rishi_Sunak, Donald_Trump, Energy_industry, Advertising, Global_economy, Consumer_affairs, Climate_crisis, European_Union, US_television, Victoria, Biden_administration, Economic_recovery, Gold, Football, Hedge_funds, Infectious_diseases, Late-night_TV_roundup, US_politics, Technology_sector, Blockchain, Pharmaceuticals_industry, Seth_Meyers, Trevor_Noah, Stephen_Colbert, Manufacturing_sector, Kings_of_Leon, Grimes, Banksy, Collecting, Games, Asia_Pacific, US_sports, Hospitality_industry, European_Super_League, Books, Football_politics, Apps, Oceans, Jack_Dorsey, Jeff_Bezos, Africa, Privacy, Credit_Suisse, Economic_growth_(GDP), Darknet, Data_and_computer_security, Clubhouse, Conservatives, Family, Parents_and_parenting, Silicon_Valley, Shares, UK_unemployment_and_employment_statistics, Petrol_prices, Facebook, Scams, JP_Morgan, Jamie_Dimon, Film, France, Florida, Labor_party, New_South_Wales, Private_equity, Queensland, Annastacia_Palaszczuk, Queensland_politics, Computing, Google, The_far_right, Silk_Road, Andrew_Bailey, Melbourne, Federal_Reserve, Pop_and_rock, Daniel_Andrews, Germany, BP, Sanjeev_Gupta, Education, Film_industry, Crime, Health_&_wellbeing, Canada, Telecoms, Richard_Branson, Animation_on_TV, Netflix, Tesco, Peter_Thiel, Architecture, Blogging, Atlanta_spa_shootings, Australia_sport, Board_games, Skiing, Colorado, Damian_Lewis, Utah, Unemployment_and_employment_statistics, AstraZeneca, Liberal_party, Substack, Mobile_phones, Smartphones, Artificial_intelligence_(AI), Josh_Frydenberg, Nigeria, Neil_Woodford, Scott_Morrison, Muhammadu_Buhari, Medical_research, HSBC, Whitbread, Vanuatu, Microbiology, SpaceX, National_party, Space, Pacific_islands, Anthony_Albanese, Rail_industry, South_Pacific, Nauru, US_elections_2020, Victorian_politics, Food_&_drink_industry, Motor_sport, Boeing, Transport, Philip_Green, European_Central_Bank, Belgium, Documentary_films, Wolverhampton_Wanderers, West_Ham_United, Science_and_nature_books, Watford, Tottenham_Hotspur, Southampton, Sheffield_United, Norwich_City, Western_Australia, Newcastle_United, Manchester_United, Manchester_City, Premier_League, International_Monetary_Fund_(IMF), Arm, Mergers_and_acquisitions, Podcasting, Podcasts, US_unemployment_and_employment_data, Tasmania, Comedy_films, Cycling, Institute_of_Public_Affairs, Gladys_Berejiklian, Public_transport_trips, Motoring, London_Underground, Foreign_policy, Global_development, Kenya, Online_abuse, Sex_tourism, Australian_universities, Michael_McCormack, Consumer_rights, Australian_education, Research_funding, Internet_safety, Marks_&_Spencer, Iran, Pfizer, Coalition, Population, Cities, Exploration, Game_culture, Mental_health, Formula_One, Deliveroo, NatWest_Group, Unemployment, Open_source, Mastodon, GlaxoSmithKline, AT&T, Warner_Bros, Discovery_Communications, Television_industry, Mathematics, Computer_science_and_IT, International_trade, Naked_Wines, Fox_News, THG, Royal_Mail, Jimmy_Kimmel, NBA, Travel_&_leisure, Next, Cheese, Food, Travel, Airline_industry, Digital_music_and_audio, Quantitative_easing, NHS, Hospitals, Goldman_Sachs, Newport, Birmingham, Advertising_Standards_Authority, Doge, Magnus_Carlsen, Chess, US_taxation, Turkey, Glastonbury_festival, Festivals, Music_festivals, Marcus_Rashford, San_Francisco, PayPal, Renewable_energy, FSCS, Australian_media, Charities, Voluntary_sector, Infrastructure, US_crime, Public_finance, The_super-rich, Trade_policy, JD_Sports_Fashion, Wales, Interest_rates, Weddings, Budget, Wildfires, Wildlife, Marine_life, Electric,_hybrid_and_low-emission_cars, Fossil_fuels, Photography, Exhibitions, US_small_business, Jaguar_Land_Rover, Tata, Colombia, Americas, Bill_Gates, Uber, Apple, Barack_Obama, Theatre, Stage, Music_industry, Data_protection, GDPR, Pregnancy, IVF, Fertility_problems, LGBTQ+_rights, John_Oliver, Farming, Trees_and_forests, Inequality, Fishing, Malware, Organised_crime, Janet_Yellen, Alphabet, Ladbrokes, Gambling, Rosamund_Pike, Depression, Beauty, Cosmetic_surgery, Jimmy_Fallon, Republicans, Sex, Economic_policy, Carbon_capture_and_storage_(CCS), Greenhouse_gas_emissions, Steel_industry, Greensill, Rolls-Royce, BAE_Systems, Serious_Fraud_Office, Cineworld, Conservation, Climate_science, Biodiversity, Insurance_industry\n"
     ]
    }
   ],
   "source": [
    "print(last_two_weeks_X_ord)\n",
    "\n",
    "print(\"Column Names:\")\n",
    "print(\", \".join(last_two_weeks_X_ord.columns))"
   ]
  },
  {
   "cell_type": "markdown",
   "metadata": {
    "id": "NQDPVG_HgZON"
   },
   "source": [
    "## Q5 - SQL (5 pts)\n",
    "\n",
    "In the file `final2023.db`, we have the data similar to `guardian_df` in a table called `guardian`.\n",
    "\n",
    "Please write the SQL query into the variable `query` that would compute the fraction of articles with positive titles (see Q4) for each possible type of `pillarName`, e.g. Arts, News, etc.\n",
    "- Your query should return the pillarName AND the respective fraction.\n",
    "- please use `sqlite3` and SQL to complete this question\n",
    "- The column names of the table are the same as the columns in `guardian_df`.\n",
    "- Please PRINT OUT your calculated fractions for each of the pillarName values."
   ]
  },
  {
   "cell_type": "code",
   "execution_count": null,
   "metadata": {
    "id": "Xr7MCZwagZON",
    "outputId": "479b94fb-1ac2-4f90-a9b2-8c175f425239"
   },
   "outputs": [
    {
     "name": "stdout",
     "output_type": "stream",
     "text": [
      "[('Arts', 0.0), ('Lifestyle', 0.5), ('News', 0.3157894736842105), ('Opinion', 0.0), ('Sport', 0.0)]\n"
     ]
    }
   ],
   "source": [
    "import sqlite3\n",
    "\n",
    "# Please edit the path correctly.\n",
    "connection = sqlite3.connect('final2023.db')\n",
    "\n",
    "query = \"\"\"\n",
    "SELECT pillarName,\n",
    "       SUM(positive_title) * 1.0 / COUNT(*) AS fraction_positive_title\n",
    "FROM guardian\n",
    "GROUP BY pillarName;\n",
    "\"\"\"\n",
    "\n",
    "cursor = connection.cursor()\n",
    "print(cursor.execute(query).fetchall())\n",
    "connection.close()\n",
    "\n"
   ]
  },
  {
   "cell_type": "markdown",
   "metadata": {
    "id": "CbxFsvh2gZOP"
   },
   "source": [
    "## Q6 - Modeling (25 pts)\n",
    "\n",
    "Using `X_ord` and `btc_weekly` (or use `Q4_backup.csv` and `Q2_backup.csv` if you couldn't complete Q4 and Q2), we will predict the `Adj Close` by the frequency of the `p` most popular keywords (recall what `ord` means in `X_ord`) in respective weeks.\n",
    "\n",
    "Please use linear regression to solve this problem.\n",
    "\n",
    "This is not a good approach but we're doing this given the exam constraints.\n",
    "\n",
    "- Please make sure you're only using weeks that are entirely in the range of `2020-05-01` to `2021-05-31`.\n",
    "  - Hint: `2020-05-04` and `2021-05-31` are both Mondays.\n",
    "- What value of `p` will minimize a 5-fold cross-validated RMSE?\n",
    "  - Please limit `p` to values below `20`.\n",
    "  - Please set the `random_state` to the value `5206` when constituting K-fold cross-validation sets.\n",
    "  - We will compare 20 models, and the $i$-th model uses the first $i$ features in `X_ord`.\n",
    "- Please report all the coefficients from training the best model with all the data."
   ]
  },
  {
   "cell_type": "code",
   "execution_count": null,
   "metadata": {
    "id": "ylScvW4fgZOP",
    "outputId": "f3a68513-7362-46cb-85ee-f7956e34a5ad"
   },
   "outputs": [
    {
     "name": "stdout",
     "output_type": "stream",
     "text": [
      "Best value of p: 9\n",
      "5-fold Cross-Validated RMSE with the best model: 8533.803199644895\n",
      "Coefficients of the best model:\n",
      "Feature 1: 4110.1843\n",
      "Feature 2: 11150.3222\n",
      "Feature 3: -606.4757\n",
      "Feature 4: -761.9289\n",
      "Feature 5: -1460.1547\n",
      "Feature 6: -10673.0473\n",
      "Feature 7: 677.2334\n",
      "Feature 8: -185.3090\n",
      "Feature 9: 1476.4415\n"
     ]
    }
   ],
   "source": [
    "\n",
    "import pandas as pd\n",
    "import numpy as np\n",
    "from sklearn.model_selection import TimeSeriesSplit, cross_val_score\n",
    "from sklearn.linear_model import LinearRegression\n",
    "from sklearn.metrics import mean_squared_error\n",
    "from sklearn.preprocessing import StandardScaler\n",
    "\n",
    "\n",
    "# Filter data within the specified date range\n",
    "start_date = pd.to_datetime('2020-05-01')\n",
    "end_date = pd.to_datetime('2021-05-31')\n",
    "btc_weekly_ = btc_weekly[(btc_weekly['Date'] >= start_date) & (btc_weekly['Date'] <= end_date)]\n",
    "\n",
    "\n",
    "# Define the target variable\n",
    "y = btc_weekly_['Adj Close']\n",
    "\n",
    "# Initialize variables to store results\n",
    "best_p = None\n",
    "best_rmse = float('inf')\n",
    "best_model = None\n",
    "best_coeffs = None\n",
    "\n",
    "# Set random_state for reproducibility\n",
    "random_state = 5206\n",
    "\n",
    "# Iterate through different values of p\n",
    "for p in range(1, 21):\n",
    "    # Extract the p most popular keywords for each week\n",
    "    X_p = X_ord.iloc[:, :p]\n",
    "\n",
    "    # Standardize the input features\n",
    "    scaler = StandardScaler()\n",
    "    X_p = scaler.fit_transform(X_p)\n",
    "\n",
    "    # Initialize linear regression model\n",
    "    model = LinearRegression()\n",
    "\n",
    "    # Perform 5-fold time series cross-validation\n",
    "    tscv = TimeSeriesSplit(n_splits=5)\n",
    "    rmse_scores = []\n",
    "\n",
    "    for train_index, test_index in tscv.split(X_p):\n",
    "        X_train, X_test = X_p[train_index], X_p[test_index]\n",
    "        y_train, y_test = y.iloc[train_index], y.iloc[test_index]\n",
    "\n",
    "        # Fit the model and make predictions\n",
    "        model.fit(X_train, y_train)\n",
    "        y_pred = model.predict(X_test)\n",
    "\n",
    "        # Calculate RMSE\n",
    "        rmse = np.sqrt(mean_squared_error(y_test, y_pred))\n",
    "        rmse_scores.append(rmse)\n",
    "\n",
    "    # Calculate mean RMSE across folds\n",
    "    avg_rmse = np.mean(rmse_scores)\n",
    "\n",
    "    # Check if this model has the lowest RMSE\n",
    "    if avg_rmse < best_rmse:\n",
    "        best_rmse = avg_rmse\n",
    "        best_p = p\n",
    "        best_model = model\n",
    "        best_coeffs = model.coef_\n",
    "\n",
    "# Report the value of p that minimizes RMSE\n",
    "print(\"Best value of p:\", best_p)\n",
    "print(\"5-fold Cross-Validated RMSE with the best model:\", best_rmse)\n",
    "\n",
    "\n",
    "# Get the coefficients from the best model\n",
    "coefficients = best_model.coef_\n",
    "\n",
    "# Report the coefficients\n",
    "print(\"Coefficients of the best model:\")\n",
    "for i, coef in enumerate(coefficients):\n",
    "    print(f\"Feature {i + 1}: {coef:.4f}\")\n"
   ]
  },
  {
   "cell_type": "markdown",
   "metadata": {
    "id": "1rzqHkTCgZOP"
   },
   "source": [
    "## Q7 - Good enough? (NO CODE, 10 pts)\n",
    "\n",
    "The approach in Q6 requires data from The Guardian. Depending on external data sources always comes with data quality issues. So the model using external data should be much better than a \"naive model\".\n",
    "\n",
    "How would you determine if the model in Q6 is good enough, i.e. what is a reasonable naive model would you compare the predictive accuracy against?\n",
    "\n",
    "There are multiple correct answers!"
   ]
  },
  {
   "cell_type": "markdown",
   "metadata": {
    "id": "TfbzMNswgZOP"
   },
   "source": [
    "<!-- Time-Series Baseline: we can use a basic autoregressive model, such as naive forecasting, to estimate the upcoming value based on the prior value, if your problem contains time-series data (such as stock prices). The temporal aspect of the data is taken into consideration by this baseline.\n",
    "\n",
    "Business measurements: Finally, the selection of an appropriate naive model is influenced by the business objectives and measurements. Consider what amount of improvement in a certain business indicator and the model must achieve to be regarded valuable. -->"
   ]
  },
  {
   "cell_type": "markdown",
   "metadata": {
    "id": "7DBC0GhkgZOP"
   },
   "source": [
    "Business measurements: Finally, the selection of an appropriate naive model is influenced by the business objectives and measurements. Consider what amount of improvement in a certain business indicator the model must achieve to be regarded valuable."
   ]
  },
  {
   "cell_type": "markdown",
   "metadata": {
    "id": "CCMGlrmLgZOP"
   },
   "source": [
    "Historical Average: A naive model that predicts the target variable based on the historical average for the same time period can also be used."
   ]
  }
 ],
 "metadata": {
  "colab": {
   "provenance": []
  },
  "kernelspec": {
   "display_name": "Python 3 (ipykernel)",
   "language": "python",
   "name": "python3"
  },
  "language_info": {
   "codemirror_mode": {
    "name": "ipython",
    "version": 3
   },
   "file_extension": ".py",
   "mimetype": "text/x-python",
   "name": "python",
   "nbconvert_exporter": "python",
   "pygments_lexer": "ipython3",
   "version": "3.12.4"
  }
 },
 "nbformat": 4,
 "nbformat_minor": 4
}
